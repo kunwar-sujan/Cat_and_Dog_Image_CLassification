{
 "cells": [
  {
   "cell_type": "code",
   "execution_count": 1,
   "id": "b6afa064",
   "metadata": {},
   "outputs": [],
   "source": [
    "import tensorflow as tf \n",
    "from keras.preprocessing.image import ImageDataGenerator"
   ]
  },
  {
   "cell_type": "code",
   "execution_count": 2,
   "id": "cd5faef2",
   "metadata": {},
   "outputs": [
    {
     "name": "stdout",
     "output_type": "stream",
     "text": [
      "Found 557 images belonging to 2 classes.\n"
     ]
    }
   ],
   "source": [
    "train_datagen = ImageDataGenerator(rescale= 1./255,\n",
    "                                  shear_range= 0.2,\n",
    "                                  zoom_range= 0.2,\n",
    "                                  horizontal_flip= True)\n",
    "traning_set = train_datagen.flow_from_directory(\"C:/Users/Hp/Desktop/VEDANSH/Deep Learning/cats and dogs/train\",\n",
    "                                                target_size= (64,64),batch_size= 32,class_mode='binary')"
   ]
  },
  {
   "cell_type": "markdown",
   "id": "9bd2ce7c",
   "metadata": {},
   "source": [
    "rescale \n",
    "shere - cut the image in percent from all sides \n",
    "zoom_range - \n",
    "horizontal flip - enables to filp the imagee\n",
    "\n",
    "\n",
    "target size -  \n",
    "batch size - \n",
    "class_mode - "
   ]
  },
  {
   "cell_type": "code",
   "execution_count": 3,
   "id": "e55dee01",
   "metadata": {},
   "outputs": [
    {
     "name": "stdout",
     "output_type": "stream",
     "text": [
      "Found 140 images belonging to 2 classes.\n"
     ]
    }
   ],
   "source": [
    "testing_datagen = ImageDataGenerator(rescale= 1./255,\n",
    "                                  shear_range= 0.2,\n",
    "                                  zoom_range= 0.2,\n",
    "                                  horizontal_flip= True)\n",
    "test_set = train_datagen.flow_from_directory(\"C:/Users/Hp/Desktop/VEDANSH/Deep Learning/cats and dogs/test\",\n",
    "                                                target_size= (64,64),batch_size= 32,class_mode='binary')"
   ]
  },
  {
   "cell_type": "code",
   "execution_count": 4,
   "id": "54eb54ee",
   "metadata": {},
   "outputs": [],
   "source": [
    "cnn = tf.keras.models.Sequential()"
   ]
  },
  {
   "cell_type": "markdown",
   "id": "6c8f1ff5",
   "metadata": {},
   "source": [
    "first layer"
   ]
  },
  {
   "cell_type": "code",
   "execution_count": 5,
   "id": "39d78617",
   "metadata": {},
   "outputs": [],
   "source": [
    "cnn.add(tf.keras.layers.Conv2D(filters=32,kernel_size=3, activation='relu',\n",
    "                               input_shape= [64,64,3]))"
   ]
  },
  {
   "cell_type": "markdown",
   "id": "cfd39b57",
   "metadata": {},
   "source": [
    "pooling "
   ]
  },
  {
   "cell_type": "code",
   "execution_count": 6,
   "id": "89c3fac3",
   "metadata": {},
   "outputs": [],
   "source": [
    "cnn.add(tf.keras.layers.MaxPool2D(pool_size =2, strides= 2)) #strides meaning is steps"
   ]
  },
  {
   "cell_type": "markdown",
   "id": "98b9e1e0",
   "metadata": {},
   "source": [
    "second layer \n"
   ]
  },
  {
   "cell_type": "code",
   "execution_count": 7,
   "id": "362ab99c",
   "metadata": {},
   "outputs": [],
   "source": [
    "cnn.add(tf.keras.layers.Conv2D(filters=32,kernel_size=3, activation='relu',\n",
    "                               input_shape= [64,64,3]))"
   ]
  },
  {
   "cell_type": "markdown",
   "id": "575dda7e",
   "metadata": {},
   "source": [
    "pooling 2"
   ]
  },
  {
   "cell_type": "code",
   "execution_count": 8,
   "id": "0ec9a5be",
   "metadata": {},
   "outputs": [],
   "source": [
    "cnn.add(tf.keras.layers.MaxPool2D(pool_size =2, strides= 2))"
   ]
  },
  {
   "cell_type": "markdown",
   "id": "dd4bf774",
   "metadata": {},
   "source": [
    "flattening "
   ]
  },
  {
   "cell_type": "code",
   "execution_count": 9,
   "id": "2f6d92c4",
   "metadata": {},
   "outputs": [],
   "source": [
    "cnn.add(tf.keras.layers.Flatten())"
   ]
  },
  {
   "cell_type": "markdown",
   "id": "7d5abf30",
   "metadata": {},
   "source": [
    "full connection"
   ]
  },
  {
   "cell_type": "code",
   "execution_count": 10,
   "id": "0216c8df",
   "metadata": {},
   "outputs": [],
   "source": [
    "cnn.add(tf.keras.layers.Dense(units= 128, activation='relu'))"
   ]
  },
  {
   "cell_type": "markdown",
   "id": "401b741e",
   "metadata": {},
   "source": [
    "output layer"
   ]
  },
  {
   "cell_type": "code",
   "execution_count": 11,
   "id": "08e31c69",
   "metadata": {},
   "outputs": [],
   "source": [
    "cnn.add(tf.keras.layers.Dense(units=1,activation='sigmoid'))"
   ]
  },
  {
   "cell_type": "code",
   "execution_count": 12,
   "id": "55caf4ec",
   "metadata": {
    "scrolled": true
   },
   "outputs": [
    {
     "name": "stdout",
     "output_type": "stream",
     "text": [
      "Model: \"sequential\"\n",
      "_________________________________________________________________\n",
      " Layer (type)                Output Shape              Param #   \n",
      "=================================================================\n",
      " conv2d (Conv2D)             (None, 62, 62, 32)        896       \n",
      "                                                                 \n",
      " max_pooling2d (MaxPooling2D  (None, 31, 31, 32)       0         \n",
      " )                                                               \n",
      "                                                                 \n",
      " conv2d_1 (Conv2D)           (None, 29, 29, 32)        9248      \n",
      "                                                                 \n",
      " max_pooling2d_1 (MaxPooling  (None, 14, 14, 32)       0         \n",
      " 2D)                                                             \n",
      "                                                                 \n",
      " flatten (Flatten)           (None, 6272)              0         \n",
      "                                                                 \n",
      " dense (Dense)               (None, 128)               802944    \n",
      "                                                                 \n",
      " dense_1 (Dense)             (None, 1)                 129       \n",
      "                                                                 \n",
      "=================================================================\n",
      "Total params: 813,217\n",
      "Trainable params: 813,217\n",
      "Non-trainable params: 0\n",
      "_________________________________________________________________\n"
     ]
    }
   ],
   "source": [
    "cnn.summary()"
   ]
  },
  {
   "cell_type": "markdown",
   "id": "a982a4ac",
   "metadata": {},
   "source": [
    "Train the CNN"
   ]
  },
  {
   "cell_type": "code",
   "execution_count": 13,
   "id": "5d1e8682",
   "metadata": {},
   "outputs": [],
   "source": [
    "cnn.compile(optimizer='adam',loss='binary_crossentropy',metrics=['accuracy'])"
   ]
  },
  {
   "cell_type": "code",
   "execution_count": 14,
   "id": "a72ba3cb",
   "metadata": {},
   "outputs": [
    {
     "name": "stdout",
     "output_type": "stream",
     "text": [
      "Epoch 1/25\n",
      "18/18 [==============================] - 19s 951ms/step - loss: 0.6971 - accuracy: 0.5655 - val_loss: 0.7112 - val_accuracy: 0.4929\n",
      "Epoch 2/25\n",
      "18/18 [==============================] - 7s 414ms/step - loss: 0.6918 - accuracy: 0.5386 - val_loss: 0.6915 - val_accuracy: 0.5500\n",
      "Epoch 3/25\n",
      "18/18 [==============================] - 7s 400ms/step - loss: 0.6755 - accuracy: 0.5673 - val_loss: 0.7020 - val_accuracy: 0.5071\n",
      "Epoch 4/25\n",
      "18/18 [==============================] - 7s 418ms/step - loss: 0.6677 - accuracy: 0.5871 - val_loss: 0.6790 - val_accuracy: 0.6286\n",
      "Epoch 5/25\n",
      "18/18 [==============================] - 7s 396ms/step - loss: 0.6533 - accuracy: 0.6643 - val_loss: 0.7256 - val_accuracy: 0.5071\n",
      "Epoch 6/25\n",
      "18/18 [==============================] - 7s 403ms/step - loss: 0.6389 - accuracy: 0.6409 - val_loss: 0.6806 - val_accuracy: 0.6071\n",
      "Epoch 7/25\n",
      "18/18 [==============================] - 7s 399ms/step - loss: 0.6110 - accuracy: 0.6697 - val_loss: 0.6972 - val_accuracy: 0.5929\n",
      "Epoch 8/25\n",
      "18/18 [==============================] - 7s 396ms/step - loss: 0.5774 - accuracy: 0.7002 - val_loss: 0.6877 - val_accuracy: 0.5929\n",
      "Epoch 9/25\n",
      "18/18 [==============================] - 7s 405ms/step - loss: 0.5685 - accuracy: 0.6858 - val_loss: 0.6496 - val_accuracy: 0.6643\n",
      "Epoch 10/25\n",
      "18/18 [==============================] - 8s 473ms/step - loss: 0.5969 - accuracy: 0.6643 - val_loss: 0.6706 - val_accuracy: 0.6571\n",
      "Epoch 11/25\n",
      "18/18 [==============================] - 8s 428ms/step - loss: 0.5438 - accuracy: 0.7289 - val_loss: 0.6848 - val_accuracy: 0.6429\n",
      "Epoch 12/25\n",
      "18/18 [==============================] - 8s 425ms/step - loss: 0.5246 - accuracy: 0.7415 - val_loss: 0.6454 - val_accuracy: 0.6929\n",
      "Epoch 13/25\n",
      "18/18 [==============================] - 8s 423ms/step - loss: 0.4985 - accuracy: 0.7522 - val_loss: 0.7427 - val_accuracy: 0.6429\n",
      "Epoch 14/25\n",
      "18/18 [==============================] - 8s 427ms/step - loss: 0.5066 - accuracy: 0.7504 - val_loss: 0.6749 - val_accuracy: 0.6429\n",
      "Epoch 15/25\n",
      "18/18 [==============================] - 8s 428ms/step - loss: 0.4656 - accuracy: 0.7702 - val_loss: 0.6550 - val_accuracy: 0.6786\n",
      "Epoch 16/25\n",
      "18/18 [==============================] - 7s 411ms/step - loss: 0.4562 - accuracy: 0.7846 - val_loss: 0.7397 - val_accuracy: 0.6500\n",
      "Epoch 17/25\n",
      "18/18 [==============================] - 8s 434ms/step - loss: 0.4381 - accuracy: 0.8043 - val_loss: 0.6763 - val_accuracy: 0.6357\n",
      "Epoch 18/25\n",
      "18/18 [==============================] - 7s 407ms/step - loss: 0.4664 - accuracy: 0.7720 - val_loss: 0.7093 - val_accuracy: 0.5857\n",
      "Epoch 19/25\n",
      "18/18 [==============================] - 8s 426ms/step - loss: 0.4139 - accuracy: 0.8187 - val_loss: 0.7745 - val_accuracy: 0.6286\n",
      "Epoch 20/25\n",
      "18/18 [==============================] - 8s 432ms/step - loss: 0.4066 - accuracy: 0.8169 - val_loss: 0.6618 - val_accuracy: 0.6929\n",
      "Epoch 21/25\n",
      "18/18 [==============================] - 8s 435ms/step - loss: 0.3760 - accuracy: 0.8312 - val_loss: 0.7161 - val_accuracy: 0.7143\n",
      "Epoch 22/25\n",
      "18/18 [==============================] - 7s 418ms/step - loss: 0.3545 - accuracy: 0.8474 - val_loss: 0.7897 - val_accuracy: 0.6500\n",
      "Epoch 23/25\n",
      "18/18 [==============================] - 7s 418ms/step - loss: 0.3786 - accuracy: 0.8043 - val_loss: 0.6469 - val_accuracy: 0.7000\n",
      "Epoch 24/25\n",
      "18/18 [==============================] - 7s 417ms/step - loss: 0.3458 - accuracy: 0.8456 - val_loss: 0.7062 - val_accuracy: 0.7000\n",
      "Epoch 25/25\n",
      "18/18 [==============================] - 8s 433ms/step - loss: 0.3560 - accuracy: 0.8169 - val_loss: 0.7866 - val_accuracy: 0.6357\n"
     ]
    },
    {
     "data": {
      "text/plain": [
       "<keras.callbacks.History at 0x1c390f75ca0>"
      ]
     },
     "execution_count": 14,
     "metadata": {},
     "output_type": "execute_result"
    }
   ],
   "source": [
    "cnn.fit(x = traning_set,validation_data=test_set, epochs=25)"
   ]
  },
  {
   "cell_type": "code",
   "execution_count": 15,
   "id": "ec56e612",
   "metadata": {},
   "outputs": [],
   "source": [
    "import numpy as np\n",
    "from keras.preprocessing import image\n",
    "test_image = tf.keras.utils.load_img(\"C:/Users/Hp/Desktop/VEDANSH/Deep Learning/cats and dogs/test/dogs/dog_303.jpg\",target_size=[64,64])"
   ]
  },
  {
   "cell_type": "code",
   "execution_count": 16,
   "id": "6666dced",
   "metadata": {},
   "outputs": [
    {
     "data": {
      "image/png": "[encoded data removed]",
      "text/plain": [
       "<PIL.Image.Image image mode=RGB size=64x64 at 0x1C3913E6040>"
      ]
     },
     "execution_count": 16,
     "metadata": {},
     "output_type": "execute_result"
    }
   ],
   "source": [
    "test_image"
   ]
  },
  {
   "cell_type": "code",
   "execution_count": 17,
   "id": "e28173db",
   "metadata": {},
   "outputs": [
    {
     "data": {
      "text/plain": [
       "array([[[186., 210.,   0.],\n",
       "        [186., 210.,   0.],\n",
       "        [186., 210.,   0.],\n",
       "        ...,\n",
       "        [186., 210.,   0.],\n",
       "        [187., 211.,   1.],\n",
       "        [185., 209.,   0.]],\n",
       "\n",
       "       [[186., 210.,   0.],\n",
       "        [186., 210.,   0.],\n",
       "        [186., 210.,   0.],\n",
       "        ...,\n",
       "        [187., 211.,   1.],\n",
       "        [187., 211.,   1.],\n",
       "        [185., 209.,   0.]],\n",
       "\n",
       "       [[186., 210.,   0.],\n",
       "        [186., 210.,   0.],\n",
       "        [186., 210.,   0.],\n",
       "        ...,\n",
       "        [189., 213.,   3.],\n",
       "        [188., 212.,   2.],\n",
       "        [185., 209.,   0.]],\n",
       "\n",
       "       ...,\n",
       "\n",
       "       [[186., 211.,   0.],\n",
       "        [186., 210.,   0.],\n",
       "        [186., 209.,   4.],\n",
       "        ...,\n",
       "        [186., 210.,   0.],\n",
       "        [186., 210.,   0.],\n",
       "        [186., 210.,   0.]],\n",
       "\n",
       "       [[186., 211.,   0.],\n",
       "        [186., 210.,   0.],\n",
       "        [185., 208.,   4.],\n",
       "        ...,\n",
       "        [186., 210.,   0.],\n",
       "        [186., 210.,   0.],\n",
       "        [186., 210.,   0.]],\n",
       "\n",
       "       [[186., 210.,   0.],\n",
       "        [186., 210.,   0.],\n",
       "        [182., 205.,   3.],\n",
       "        ...,\n",
       "        [186., 210.,   0.],\n",
       "        [186., 210.,   0.],\n",
       "        [186., 210.,   0.]]], dtype=float32)"
      ]
     },
     "execution_count": 17,
     "metadata": {},
     "output_type": "execute_result"
    }
   ],
   "source": [
    "test_image = tf.keras.utils.img_to_array(test_image)\n",
    "test_image\n",
    "                                        "
   ]
  },
  {
   "cell_type": "code",
   "execution_count": 18,
   "id": "621656da",
   "metadata": {},
   "outputs": [
    {
     "data": {
      "text/plain": [
       "array([[[[186., 210.,   0.],\n",
       "         [186., 210.,   0.],\n",
       "         [186., 210.,   0.],\n",
       "         ...,\n",
       "         [186., 210.,   0.],\n",
       "         [187., 211.,   1.],\n",
       "         [185., 209.,   0.]],\n",
       "\n",
       "        [[186., 210.,   0.],\n",
       "         [186., 210.,   0.],\n",
       "         [186., 210.,   0.],\n",
       "         ...,\n",
       "         [187., 211.,   1.],\n",
       "         [187., 211.,   1.],\n",
       "         [185., 209.,   0.]],\n",
       "\n",
       "        [[186., 210.,   0.],\n",
       "         [186., 210.,   0.],\n",
       "         [186., 210.,   0.],\n",
       "         ...,\n",
       "         [189., 213.,   3.],\n",
       "         [188., 212.,   2.],\n",
       "         [185., 209.,   0.]],\n",
       "\n",
       "        ...,\n",
       "\n",
       "        [[186., 211.,   0.],\n",
       "         [186., 210.,   0.],\n",
       "         [186., 209.,   4.],\n",
       "         ...,\n",
       "         [186., 210.,   0.],\n",
       "         [186., 210.,   0.],\n",
       "         [186., 210.,   0.]],\n",
       "\n",
       "        [[186., 211.,   0.],\n",
       "         [186., 210.,   0.],\n",
       "         [185., 208.,   4.],\n",
       "         ...,\n",
       "         [186., 210.,   0.],\n",
       "         [186., 210.,   0.],\n",
       "         [186., 210.,   0.]],\n",
       "\n",
       "        [[186., 210.,   0.],\n",
       "         [186., 210.,   0.],\n",
       "         [182., 205.,   3.],\n",
       "         ...,\n",
       "         [186., 210.,   0.],\n",
       "         [186., 210.,   0.],\n",
       "         [186., 210.,   0.]]]], dtype=float32)"
      ]
     },
     "execution_count": 18,
     "metadata": {},
     "output_type": "execute_result"
    }
   ],
   "source": [
    "test_image = np.expand_dims(test_image,axis=0)\n",
    "test_image"
   ]
  },
  {
   "cell_type": "code",
   "execution_count": 19,
   "id": "fda7d48c",
   "metadata": {},
   "outputs": [
    {
     "name": "stdout",
     "output_type": "stream",
     "text": [
      "1/1 [==============================] - 0s 81ms/step\n"
     ]
    }
   ],
   "source": [
    "result = cnn.predict(test_image)"
   ]
  },
  {
   "cell_type": "code",
   "execution_count": 20,
   "id": "c9889a04",
   "metadata": {},
   "outputs": [
    {
     "data": {
      "text/plain": [
       "array([[1.]], dtype=float32)"
      ]
     },
     "execution_count": 20,
     "metadata": {},
     "output_type": "execute_result"
    }
   ],
   "source": [
    "result"
   ]
  },
  {
   "cell_type": "code",
   "execution_count": 21,
   "id": "54873111",
   "metadata": {},
   "outputs": [
    {
     "name": "stdout",
     "output_type": "stream",
     "text": [
      "dog\n"
     ]
    }
   ],
   "source": [
    "if result[0][0] ==1:\n",
    "    prediction='dog'\n",
    "else:\n",
    "    prediction = 'cat'\n",
    "\n",
    "print(prediction)"
   ]
  },
  {
   "cell_type": "code",
   "execution_count": 22,
   "id": "28ae6fe8",
   "metadata": {},
   "outputs": [
    {
     "data": {
      "image/png": "[encoded data removed]",
      "text/plain": [
       "<PIL.Image.Image image mode=RGB size=64x64 at 0x1C39145F640>"
      ]
     },
     "execution_count": 22,
     "metadata": {},
     "output_type": "execute_result"
    }
   ],
   "source": [
    "test_image = tf.keras.utils.load_img(\"C:/Users/Hp/Desktop/VEDANSH/Deep Learning/cats and dogs/test/cats/cat_586.jpg\",target_size=[64,64])\n",
    "test_image"
   ]
  },
  {
   "cell_type": "code",
   "execution_count": 23,
   "id": "11d306dc",
   "metadata": {},
   "outputs": [
    {
     "name": "stdout",
     "output_type": "stream",
     "text": [
      "1/1 [==============================] - 0s 16ms/step\n"
     ]
    }
   ],
   "source": [
    "test_image = tf.keras.utils.img_to_array(test_image)\n",
    "test_image = np.expand_dims(test_image,axis=0)\n",
    "result = cnn.predict(test_image)"
   ]
  },
  {
   "cell_type": "code",
   "execution_count": 24,
   "id": "baea68b3",
   "metadata": {},
   "outputs": [
    {
     "data": {
      "text/plain": [
       "array([[1.]], dtype=float32)"
      ]
     },
     "execution_count": 24,
     "metadata": {},
     "output_type": "execute_result"
    }
   ],
   "source": [
    "result"
   ]
  },
  {
   "cell_type": "code",
   "execution_count": 25,
   "id": "d7ca9dd5",
   "metadata": {},
   "outputs": [
    {
     "name": "stdout",
     "output_type": "stream",
     "text": [
      "dog\n"
     ]
    }
   ],
   "source": [
    "if result[0][0] ==1:\n",
    "    prediction='dog'\n",
    "else:\n",
    "    prediction = 'cat'\n",
    "\n",
    "print(prediction)"
   ]
  },
  {
   "cell_type": "code",
   "execution_count": null,
   "id": "bdcc0d87",
   "metadata": {},
   "outputs": [],
   "source": []
  }
 ],
 "metadata": {
  "kernelspec": {
   "display_name": "Python 3 (ipykernel)",
   "language": "python",
   "name": "python3"
  },
  "language_info": {
   "codemirror_mode": {
    "name": "ipython",
    "version": 3
   },
   "file_extension": ".py",
   "mimetype": "text/x-python",
   "name": "python",
   "nbconvert_exporter": "python",
   "pygments_lexer": "ipython3",
   "version": "3.9.12"
  }
 },
 "nbformat": 4,
 "nbformat_minor": 5
}
